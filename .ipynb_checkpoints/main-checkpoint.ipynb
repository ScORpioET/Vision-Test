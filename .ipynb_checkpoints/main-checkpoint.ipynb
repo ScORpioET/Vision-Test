{
 "cells": [
  {
   "cell_type": "code",
   "execution_count": 1,
   "id": "24806b30",
   "metadata": {},
   "outputs": [],
   "source": [
    "import cv2\n",
    "import numpy as np\n",
    "import random"
   ]
  },
  {
   "cell_type": "code",
   "execution_count": 4,
   "id": "6a73b2dd",
   "metadata": {},
   "outputs": [],
   "source": [
    "import cv2\n",
    "\n",
    "# 選擇第二隻攝影機\n",
    "cap = cv2.VideoCapture(0)\n",
    "\n",
    "while(True):\n",
    "  # 從攝影機擷取一張影像\n",
    "  ret, frame = cap.read()\n",
    "\n",
    "  # 顯示圖片\n",
    "  cv2.imshow('frame', frame)\n",
    "\n",
    "  # 若按下 q 鍵則離開迴圈\n",
    "  if cv2.waitKey(1) & 0xFF == ord('q'):\n",
    "    break\n",
    "\n",
    "# 釋放攝影機\n",
    "cap.release()\n",
    "\n",
    "# 關閉所有 OpenCV 視窗\n",
    "cv2.destroyAllWindows()"
   ]
  },
  {
   "cell_type": "code",
   "execution_count": 3,
   "id": "c65b446a",
   "metadata": {},
   "outputs": [],
   "source": [
    "def rotate(image, angle, center=None, scale=1.0):\n",
    "    # 获取图像尺寸\n",
    "    (h, w) = image.shape[:2]\n",
    " \n",
    "    if center is None:\n",
    "        center = (w / 2, h / 2)\n",
    " \n",
    "    M = cv2.getRotationMatrix2D(center, angle, scale)\n",
    "    rotated = cv2.warpAffine(image, M, (w, h), borderValue=(255, 255, 255))\n",
    "    \n",
    "    return rotated"
   ]
  },
  {
   "cell_type": "code",
   "execution_count": 4,
   "id": "603e6475",
   "metadata": {},
   "outputs": [],
   "source": [
    "img = np.zeros((800, 800, 3), np.uint8)\n",
    "\n",
    "direction = ['bottom left', 'bottom', 'bottom right', 'left', 'right', 'top left', 'top', 'top right']\n",
    "\n",
    "rand = random.randint(0, len(direction)-1)\n",
    "\n",
    "resize_scale = 1\n",
    "\n",
    "\n",
    "\n",
    "while(True):\n",
    "    \n",
    "    img.fill(255)\n",
    "    \n",
    "    landolt = rotate(cv2.imread('landolt ring.png'), 45 * rand)\n",
    "    landolt = cv2.resize(landolt, (int(landolt.shape[0]*resize_scale),int(landolt.shape[1]*resize_scale)))\n",
    "    reshape = int((img.shape[1]-landolt.shape[1])/2)\n",
    "    \n",
    "    \n",
    "    img[reshape:reshape+landolt.shape[1], reshape:reshape+landolt.shape[1]] = landolt\n",
    "    \n",
    "    text = direction[rand]\n",
    "\n",
    "    cv2.putText(img, str(rand), (400, 400), cv2.FONT_HERSHEY_SIMPLEX, 3, (0,0,0), 6)\n",
    "    cv2.imshow('vision test', img)\n",
    "    \n",
    "    if cv2.waitKey(1) & 0xFF == ord(str(rand)):\n",
    "        rand = random.randint(0, len(direction)-1)\n",
    "        resize_scale -= 0.1\n",
    "\n",
    "        \n",
    "    if cv2.waitKey(1) & 0xFF == ord('q'):\n",
    "       break\n",
    " \n",
    "\n",
    "\n",
    "cv2.destroyAllWindows()\n"
   ]
  }
 ],
 "metadata": {
  "kernelspec": {
   "display_name": "Python 3 (ipykernel)",
   "language": "python",
   "name": "python3"
  },
  "language_info": {
   "codemirror_mode": {
    "name": "ipython",
    "version": 3
   },
   "file_extension": ".py",
   "mimetype": "text/x-python",
   "name": "python",
   "nbconvert_exporter": "python",
   "pygments_lexer": "ipython3",
   "version": "3.7.9"
  }
 },
 "nbformat": 4,
 "nbformat_minor": 5
}
